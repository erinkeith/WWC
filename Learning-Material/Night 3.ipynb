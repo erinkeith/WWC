{
 "metadata": {
  "name": ""
 },
 "nbformat": 3,
 "nbformat_minor": 0,
 "worksheets": [
  {
   "cells": [
    {
     "cell_type": "heading",
     "level": 1,
     "metadata": {},
     "source": [
      "Questions from last time: "
     ]
    },
    {
     "cell_type": "raw",
     "metadata": {},
     "source": [
      "semicolons?"
     ]
    },
    {
     "cell_type": "code",
     "collapsed": false,
     "input": [
      "x = 3; y = 4; z = 5 \n",
      "if x < y < z: print x; print y; print z "
     ],
     "language": "python",
     "metadata": {},
     "outputs": [
      {
       "output_type": "stream",
       "stream": "stdout",
       "text": [
        "3\n",
        "4\n",
        "5\n"
       ]
      }
     ],
     "prompt_number": 15
    },
    {
     "cell_type": "heading",
     "level": 4,
     "metadata": {},
     "source": [
      "PEP 8: \"Compound statements (multiple statements on the same line) are generally discouraged.\""
     ]
    },
    {
     "cell_type": "raw",
     "metadata": {},
     "source": [
      "input from console?"
     ]
    },
    {
     "cell_type": "code",
     "collapsed": false,
     "input": [
      "response = raw_input(\"Enter the magic number: \")\n",
      "\n",
      "if int(response) < 10:\n",
      "    print \"I do believe in fairies\"\n",
      "else:\n",
      "    print \"Grow up!\""
     ],
     "language": "python",
     "metadata": {},
     "outputs": [
      {
       "name": "stdout",
       "output_type": "stream",
       "stream": "stdout",
       "text": [
        "Enter the magic number: 9\n"
       ]
      },
      {
       "output_type": "stream",
       "stream": "stdout",
       "text": [
        "I do believe in fairies\n"
       ]
      }
     ],
     "prompt_number": 19
    },
    {
     "cell_type": "heading",
     "level": 1,
     "metadata": {},
     "source": [
      "Truth Testing"
     ]
    },
    {
     "cell_type": "raw",
     "metadata": {},
     "source": [
      "Falseness:  None (like Ruby's nil, C's null)\n",
      "            False\n",
      "            0, 0.0\n",
      "            empty sequence '', (), []"
     ]
    },
    {
     "cell_type": "code",
     "collapsed": false,
     "input": [
      "truth = ''\n",
      "\n",
      "if truth:\n",
      "    print \"True\"\n",
      "else:\n",
      "    print \"False\""
     ],
     "language": "python",
     "metadata": {},
     "outputs": [
      {
       "output_type": "stream",
       "stream": "stdout",
       "text": [
        "False\n"
       ]
      }
     ],
     "prompt_number": 23
    },
    {
     "cell_type": "raw",
     "metadata": {},
     "source": [
      "'And' only tests the next condition if the first is True.\n",
      "'Or' only tests the next condition if the first is False."
     ]
    },
    {
     "cell_type": "heading",
     "level": 3,
     "metadata": {},
     "source": [
      "Write a function which accepts a string and returns True if the value of the string is green"
     ]
    },
    {
     "cell_type": "raw",
     "metadata": {},
     "source": [
      "IDE time!"
     ]
    },
    {
     "cell_type": "heading",
     "level": 1,
     "metadata": {},
     "source": [
      "What if you want to keep track of more than one of the same thing?\n"
     ]
    },
    {
     "cell_type": "heading",
     "level": 3,
     "metadata": {},
     "source": [
      "How would we hold on to the names of all our favorite wine stores?"
     ]
    },
    {
     "cell_type": "code",
     "collapsed": false,
     "input": [
      "wine_list = [\"Ben's Liqour\", 'All About Wine', 'Cellar Door']"
     ],
     "language": "python",
     "metadata": {},
     "outputs": []
    },
    {
     "cell_type": "code",
     "collapsed": false,
     "input": [
      "print wine_list"
     ],
     "language": "python",
     "metadata": {},
     "outputs": [
      {
       "output_type": "stream",
       "stream": "stdout",
       "text": [
        "[\"Ben's Liqour\", 'All About Wine', 'Cellar Door']\n"
       ]
      }
     ],
     "prompt_number": 42
    },
    {
     "cell_type": "raw",
     "metadata": {},
     "source": [
      "Helpful operations: Explain what these do in your own words\n",
      "\n",
      "    x in s\t\n",
      "    x not in s\t\n",
      "    s + t\t\n",
      "    s * n, n * s\t\n",
      "    s[i]\t\n",
      "    s[i:j]\t\n",
      "    s[i:j:k]\t\n",
      "    len(s)\t\t \n",
      "    min(s)\t\t \n",
      "    max(s)\t\t \n",
      "    s.index(x)\t\t \n",
      "    s.count(x)"
     ]
    },
    {
     "cell_type": "code",
     "collapsed": false,
     "input": [
      "word = 'Scrumdiddlyumptious'\n",
      "\n",
      "print word[5:15:3]"
     ],
     "language": "python",
     "metadata": {},
     "outputs": [
      {
       "output_type": "stream",
       "stream": "stdout",
       "text": [
        "ddut\n"
       ]
      }
     ],
     "prompt_number": 39
    },
    {
     "cell_type": "code",
     "collapsed": false,
     "input": [
      "our_list = [1, 5, 8]\n",
      "your_list = [1, 5, 8]\n",
      "\n",
      "print id(our_list)\n",
      "print id(your_list)\n",
      "\n",
      "print id(our_list[0])\n",
      "print id(your_list[0])"
     ],
     "language": "python",
     "metadata": {},
     "outputs": [
      {
       "output_type": "stream",
       "stream": "stdout",
       "text": [
        "99895368\n",
        "96983432\n",
        "31253144\n",
        "31253144\n"
       ]
      }
     ],
     "prompt_number": 40
    },
    {
     "cell_type": "raw",
     "metadata": {},
     "source": [
      "Tuples, in Python, are immutable"
     ]
    },
    {
     "cell_type": "code",
     "collapsed": false,
     "input": [
      "tupular = (1, 2, 3, 4, 5)\n",
      "tupular[3] = 700"
     ],
     "language": "python",
     "metadata": {},
     "outputs": [
      {
       "ename": "TypeError",
       "evalue": "'tuple' object does not support item assignment",
       "output_type": "pyerr",
       "traceback": [
        "\u001b[1;31m---------------------------------------------------------------------------\u001b[0m\n\u001b[1;31mTypeError\u001b[0m                                 Traceback (most recent call last)",
        "\u001b[1;32m<ipython-input-41-c453937041e5>\u001b[0m in \u001b[0;36m<module>\u001b[1;34m()\u001b[0m\n\u001b[0;32m      1\u001b[0m \u001b[0mtupular\u001b[0m \u001b[1;33m=\u001b[0m \u001b[1;33m(\u001b[0m\u001b[1;36m1\u001b[0m\u001b[1;33m,\u001b[0m \u001b[1;36m2\u001b[0m\u001b[1;33m,\u001b[0m \u001b[1;36m3\u001b[0m\u001b[1;33m,\u001b[0m \u001b[1;36m4\u001b[0m\u001b[1;33m,\u001b[0m \u001b[1;36m5\u001b[0m\u001b[1;33m)\u001b[0m\u001b[1;33m\u001b[0m\u001b[0m\n\u001b[1;32m----> 2\u001b[1;33m \u001b[0mtupular\u001b[0m\u001b[1;33m[\u001b[0m\u001b[1;36m3\u001b[0m\u001b[1;33m]\u001b[0m \u001b[1;33m=\u001b[0m \u001b[1;36m700\u001b[0m\u001b[1;33m\u001b[0m\u001b[0m\n\u001b[0m",
        "\u001b[1;31mTypeError\u001b[0m: 'tuple' object does not support item assignment"
       ]
      }
     ],
     "prompt_number": 41
    },
    {
     "cell_type": "heading",
     "level": 1,
     "metadata": {},
     "source": [
      "How could we display these names individually?"
     ]
    },
    {
     "cell_type": "heading",
     "level": 2,
     "metadata": {},
     "source": [
      "...with the least lines of code?"
     ]
    },
    {
     "cell_type": "code",
     "collapsed": false,
     "input": [
      "print '\\n'.join(wine_list) "
     ],
     "language": "python",
     "metadata": {},
     "outputs": [
      {
       "output_type": "stream",
       "stream": "stdout",
       "text": [
        "Ben's Liqour\n",
        "All About Wine\n",
        "Cellar Door\n"
       ]
      }
     ],
     "prompt_number": 45
    },
    {
     "cell_type": "code",
     "collapsed": false,
     "input": [
      "for name in wine_list:\n",
      "    print name"
     ],
     "language": "python",
     "metadata": {},
     "outputs": [
      {
       "output_type": "stream",
       "stream": "stdout",
       "text": [
        "Ben's Liqour\n",
        "All About Wine\n",
        "Cellar Door\n"
       ]
      }
     ],
     "prompt_number": 43
    },
    {
     "cell_type": "code",
     "collapsed": false,
     "input": [
      "for i in range(0,3):\n",
      "    print wine_list[i]"
     ],
     "language": "python",
     "metadata": {},
     "outputs": [
      {
       "output_type": "stream",
       "stream": "stdout",
       "text": [
        "Ben's Liqour\n",
        "All About Wine\n",
        "Cellar Door\n"
       ]
      }
     ],
     "prompt_number": 47
    },
    {
     "cell_type": "heading",
     "level": 3,
     "metadata": {},
     "source": [
      "Create a list of numbers from 2 to 6. Then print them."
     ]
    },
    {
     "cell_type": "code",
     "collapsed": false,
     "input": [
      "new_list = range(2, 7)\n",
      "print new_list"
     ],
     "language": "python",
     "metadata": {},
     "outputs": [
      {
       "output_type": "stream",
       "stream": "stdout",
       "text": [
        "[2, 3, 4, 5, 6]\n"
       ]
      }
     ],
     "prompt_number": 49
    },
    {
     "cell_type": "code",
     "collapsed": false,
     "input": [
      "numbers = []\n",
      "\n",
      "for i in range(2, 7):\n",
      "    numbers.append(i)\n",
      "    \n",
      "for number in numbers:\n",
      "    print number"
     ],
     "language": "python",
     "metadata": {},
     "outputs": [
      {
       "output_type": "stream",
       "stream": "stdout",
       "text": [
        "2\n",
        "3\n",
        "4\n",
        "5\n",
        "6\n"
       ]
      }
     ],
     "prompt_number": 50
    }
   ],
   "metadata": {}
  }
 ]
}
